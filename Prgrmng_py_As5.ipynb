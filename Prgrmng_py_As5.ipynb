{
 "cells": [
  {
   "cell_type": "code",
   "execution_count": 3,
   "metadata": {},
   "outputs": [
    {
     "name": "stdout",
     "output_type": "stream",
     "text": [
      "The LCM of 12 and 24 is 24\n"
     ]
    }
   ],
   "source": [
    "#Write a program find LCM\n",
    "\n",
    "x = int(input('Enter first number:'))\n",
    "y = int(input('Enter second number:'))\n",
    "\n",
    "if x > y:  \n",
    "        greater = x  \n",
    "else:  \n",
    "        greater = y  \n",
    "while(True):  \n",
    "        if((greater % x == 0) and (greater % y == 0)):  \n",
    "            lcm = greater \n",
    "            print(f'The LCM of {x} and {y} is {lcm}')\n",
    "            break  \n",
    "        greater += 1  \n",
    "\n",
    "\n",
    "\n",
    "    \n",
    "    \n"
   ]
  },
  {
   "cell_type": "code",
   "execution_count": 5,
   "metadata": {},
   "outputs": [
    {
     "name": "stdout",
     "output_type": "stream",
     "text": [
      "The HCF of 12 and 8 is 4\n"
     ]
    }
   ],
   "source": [
    "#Write a program to find HCF\n",
    "\n",
    "x = int(input(\"Enter the first number:\"))\n",
    "y = int(input(\"Enter teh second nuber:\"))\n",
    "if x>y:\n",
    "    small= y\n",
    "else:\n",
    "    small = y\n",
    "for i in range(1, small+1):\n",
    "    if((x%i)==0 and (y%i)==0):\n",
    "        hcf = i\n",
    "print(f\"The HCF of {x} and {y} is {hcf}\")"
   ]
  },
  {
   "cell_type": "code",
   "execution_count": 15,
   "metadata": {},
   "outputs": [
    {
     "name": "stdout",
     "output_type": "stream",
     "text": [
      "1010/n the hexadecimal of 10 is 0xa\n",
      "in octal format 10 value is 0o12\n"
     ]
    }
   ],
   "source": [
    "#Write a program to convert a decimal to Binary, Octal and Hexadecimal\n",
    "\n",
    "n = int(input(\"ENter the number:\"))\n",
    "\n",
    "def binary(num):\n",
    "   binarynum = [0]*num\n",
    "   i=0\n",
    "   while(num>0):\n",
    "       binarynum[i] = num%2\n",
    "       num = int(num/2)\n",
    "       i+=1\n",
    "   for j in range(i-1,-1,-1):\n",
    "    print(binarynum[j],end='')\n",
    "\n",
    "def hexadecimal(num):\n",
    "    hnum = hex(num)\n",
    "    print(f\"the hexadecimal of {n} is {hnum}\")\n",
    "\n",
    "def octal(num):\n",
    "    octnum = oct(num)\n",
    "    print(f\"in octal format {num} value is {octnum}\")\n",
    "\n",
    "binary(n)\n",
    "hexadecimal(n)\n",
    "octal(n)\n",
    "\n",
    "\n"
   ]
  },
  {
   "cell_type": "code",
   "execution_count": 17,
   "metadata": {},
   "outputs": [
    {
     "name": "stdout",
     "output_type": "stream",
     "text": [
      "the ascii value of t is 116\n"
     ]
    }
   ],
   "source": [
    "#Write a program to print the ASCII\n",
    "\n",
    "ch = str(input('Enter the character'))\n",
    "asci = ord(ch)\n",
    "print(f\"the ascii value of {ch} is {asci}\")"
   ]
  },
  {
   "cell_type": "code",
   "execution_count": 23,
   "metadata": {},
   "outputs": [
    {
     "name": "stdout",
     "output_type": "stream",
     "text": [
      "Select action\n",
      "1.Add\n",
      "2.Subtract\n",
      "3.Multiplication\n",
      "4.Division\n",
      "The multiplication of 12.0 and 12.0 is 144.0\n"
     ]
    }
   ],
   "source": [
    "#Write a program to do four basic maths operations\n",
    "\n",
    "def add(a,b):\n",
    "    return (a+b)\n",
    "def subtract(a,b):\n",
    "    return a-b\n",
    "def mul(a,b):\n",
    "    return a*b\n",
    "def div(a,b):\n",
    "    return a/b\n",
    "\n",
    "print('Select action')\n",
    "print('1.Add')\n",
    "print('2.Subtract')\n",
    "print('3.Multiplication')\n",
    "print('4.Division')\n",
    "\n",
    "while True:\n",
    "    ch = input(\"Enter your required action 1,2,3,4 :\")\n",
    "\n",
    "    if ch in ('1','2','3','4'):\n",
    "\n",
    "       num1 = float(input(\"Enter first number:\"))\n",
    "       num2 = float(input(\"Enter second number: \"))\n",
    "       if ch == '1':\n",
    "           print(\"The sum of\", num1,\"and\",num2, \"is\", add(num1,num2) )\n",
    "       elif ch == '2':\n",
    "           print(\"The subtraction of\", num1,\"and\",num2, \"is\", subtract(num1,num2) )\n",
    "       elif ch == '3':\n",
    "           print(\"The multiplication of\", num1,\"and\",num2,\"is\", mul(num1,num2) )\n",
    "       elif ch == '4':\n",
    "           print(\"The division of\", num1,\"and\",num2, \"is\", div(num1,num2))\n",
    "    \n",
    "       next_calculation = input(\"Let's do next calculation? (yes/no): \")\n",
    "       if next_calculation == \"no\":\n",
    "        break\n",
    "    \n",
    "    else:\n",
    "        print(\"Invalid Input\")\n",
    "\n",
    "\n"
   ]
  }
 ],
 "metadata": {
  "interpreter": {
   "hash": "cd78fef2128015050713e82ca51c6520b11aee7c9ee8df750520bbbc7384cbaa"
  },
  "kernelspec": {
   "display_name": "Python 3.8.8 ('base')",
   "language": "python",
   "name": "python3"
  },
  "language_info": {
   "codemirror_mode": {
    "name": "ipython",
    "version": 3
   },
   "file_extension": ".py",
   "mimetype": "text/x-python",
   "name": "python",
   "nbconvert_exporter": "python",
   "pygments_lexer": "ipython3",
   "version": "3.8.8"
  },
  "orig_nbformat": 4
 },
 "nbformat": 4,
 "nbformat_minor": 2
}
