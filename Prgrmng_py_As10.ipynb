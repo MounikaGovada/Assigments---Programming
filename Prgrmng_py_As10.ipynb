{
 "cells": [
  {
   "cell_type": "code",
   "execution_count": 9,
   "metadata": {},
   "outputs": [
    {
     "name": "stdout",
     "output_type": "stream",
     "text": [
      "Enter the elements of list with size 4\n",
      "The given list is :\n",
      "[2, 2, 3, 4]\n",
      "The sum of the elements in the list is  11\n"
     ]
    }
   ],
   "source": [
    "#Write a Python program to find sum of elements in list?\n",
    "\n",
    "m = int(input(\"Enter the length of the list: \"))\n",
    "lis = []\n",
    "print(\"Enter the elements of list with size\",m)\n",
    "for i in range(m):\n",
    "    num = int(input())\n",
    "    lis.append(num)\n",
    "print(\"The given list is :\")\n",
    "print(lis)\n",
    "sum = 0\n",
    "for i in lis:\n",
    "    sum=sum+i\n",
    "\n",
    "print(\"The sum of the elements in the list is \", sum)"
   ]
  },
  {
   "cell_type": "code",
   "execution_count": 12,
   "metadata": {},
   "outputs": [
    {
     "name": "stdout",
     "output_type": "stream",
     "text": [
      "Enter the elements of list with size 4\n",
      "The given list is :\n",
      "[1, 2, 3, 4]\n",
      "The value of the elements in the list is when multiplied is  24\n"
     ]
    }
   ],
   "source": [
    "#Write a Python program to Multiply all numbers in the list?\n",
    "m = int(input(\"Enter the length of the list: \"))\n",
    "lis = []\n",
    "print(\"Enter the elements of list with size\",m)\n",
    "for i in range(m):\n",
    "    num = int(input())\n",
    "    lis.append(num)\n",
    "print(\"The given list is :\")\n",
    "print(lis)\n",
    "mul = 1\n",
    "for i in lis:\n",
    "    mul=mul*i\n",
    "\n",
    "print(\"The value of the elements in the list is when multiplied is \", mul)"
   ]
  },
  {
   "cell_type": "code",
   "execution_count": 14,
   "metadata": {},
   "outputs": [
    {
     "name": "stdout",
     "output_type": "stream",
     "text": [
      "Enter the elements of list with size 4\n",
      "The given list is :\n",
      "[1, 2, 3, 4]\n",
      "the smallest element in list is 1\n"
     ]
    }
   ],
   "source": [
    "#Write a Python program to find smallest number in a list?\n",
    "m = int(input(\"Enter the length of the list: \"))\n",
    "lis = []\n",
    "print(\"Enter the elements of list with size\",m)\n",
    "for i in range(m):\n",
    "    num = int(input())\n",
    "    lis.append(num)\n",
    "print(\"The given list is :\")\n",
    "print(lis)\n",
    "print(\"the smallest element in list is\",min(lis))"
   ]
  },
  {
   "cell_type": "code",
   "execution_count": 15,
   "metadata": {},
   "outputs": [
    {
     "name": "stdout",
     "output_type": "stream",
     "text": [
      "Enter the elements of list with size 4\n",
      "The given list is :\n",
      "[1, 2, 3, 4]\n",
      "the largest element in list is 4\n"
     ]
    }
   ],
   "source": [
    "#Write a Python program to find largest number in a list?\n",
    "m = int(input(\"Enter the length of the list: \"))\n",
    "lis = []\n",
    "print(\"Enter the elements of list with size\",m)\n",
    "for i in range(m):\n",
    "    num = int(input())\n",
    "    lis.append(num)\n",
    "print(\"The given list is :\")\n",
    "print(lis)\n",
    "print(\"the largest element in list is\",max(lis))"
   ]
  },
  {
   "cell_type": "code",
   "execution_count": 16,
   "metadata": {},
   "outputs": [
    {
     "name": "stdout",
     "output_type": "stream",
     "text": [
      "Enter the elements of list with size 6\n",
      "The given list is :\n",
      "[10, 13, 20, 90, 80, 78]\n",
      "The second largest element of the list is: 80\n"
     ]
    }
   ],
   "source": [
    "#Write a Python program to find second largest number in a list?\n",
    "m = int(input(\"Enter the length of the list: \"))\n",
    "lis = []\n",
    "print(\"Enter the elements of list with size\",m)\n",
    "for i in range(m):\n",
    "    num = int(input())\n",
    "    lis.append(num)\n",
    "print(\"The given list is :\")\n",
    "print(lis)\n",
    "lis.sort()\n",
    "print(\"The second largest element of the list is:\", lis[-2])  \n"
   ]
  },
  {
   "cell_type": "code",
   "execution_count": 23,
   "metadata": {},
   "outputs": [
    {
     "name": "stdout",
     "output_type": "stream",
     "text": [
      "Enter the elements of list with size 6\n",
      "The given list is :\n",
      "[1, 9, 10, 6, 4, 2]\n",
      "number of elements to be printed  3\n",
      "3 largest elements from list [6, 9, 10]\n"
     ]
    }
   ],
   "source": [
    "#Write a Python program to find N largest elements from a list?\n",
    "m = int(input(\"Enter the length of the list: \"))\n",
    "lis = []\n",
    "print(\"Enter the elements of list with size\",m)\n",
    "for i in range(m):\n",
    "    num = int(input())\n",
    "    lis.append(num)\n",
    "print(\"The given list is :\")\n",
    "print(lis)\n",
    "n = int(input(\"Enter the number of largest elements that are to be printed\"))\n",
    "print(\"number of elements to be printed \",n)\n",
    "lis.sort()\n",
    "print(n,\"largest elements from list\",lis[-n:])\n"
   ]
  },
  {
   "cell_type": "code",
   "execution_count": 31,
   "metadata": {},
   "outputs": [
    {
     "name": "stdout",
     "output_type": "stream",
     "text": [
      "Enter the elements of list with size 4\n",
      "The given list is :\n",
      "[10, 4, 5, 18]\n",
      "Even numbers in the list [10, 4, 18]\n"
     ]
    }
   ],
   "source": [
    "#Write a Python program to print even numbers in a list?\n",
    "def num_even(n):\n",
    "    if n%2==0:\n",
    "        return n\n",
    "    else:\n",
    "        pass\n",
    "\n",
    "m = int(input(\"Enter the length of the list: \"))\n",
    "lis = []\n",
    "print(\"Enter the elements of list with size\",m)\n",
    "for i in range(m):\n",
    "    num = int(input())\n",
    "    lis.append(num)\n",
    "print(\"The given list is :\")\n",
    "print(lis)\n",
    "lis1=[]\n",
    "for i in lis:\n",
    "    n = num_even(i)\n",
    "    if type(n)== int:\n",
    "        lis1.append(n)\n",
    "print(\"Even numbers in the list\",lis1)\n"
   ]
  },
  {
   "cell_type": "code",
   "execution_count": 33,
   "metadata": {},
   "outputs": [
    {
     "name": "stdout",
     "output_type": "stream",
     "text": [
      "Enter the elements of list with size 5\n",
      "The given list is :\n",
      "[2, 3, 10, 17, 10]\n",
      "odd numbers in the list [3, 17]\n"
     ]
    }
   ],
   "source": [
    "#Write a Python program to print odd numbers in a List?\n",
    "def num_odd(n):\n",
    "    if n%2!=0:\n",
    "        return n\n",
    "    else:\n",
    "        pass\n",
    "\n",
    "m = int(input(\"Enter the length of the list: \"))\n",
    "lis = []\n",
    "print(\"Enter the elements of list with size\",m)\n",
    "for i in range(m):\n",
    "    num = int(input())\n",
    "    lis.append(num)\n",
    "print(\"The given list is :\")\n",
    "print(lis)\n",
    "lis1=[]\n",
    "for i in lis:\n",
    "    n = num_odd(i)\n",
    "    if type(n)== int:\n",
    "        lis1.append(n)\n",
    "print(\"odd numbers in the list\",lis1)"
   ]
  },
  {
   "cell_type": "code",
   "execution_count": 41,
   "metadata": {},
   "outputs": [
    {
     "name": "stdout",
     "output_type": "stream",
     "text": [
      "Given list : [1, 2, [1, 2, 3, 4], [], 5, 6, []]\n",
      "List with emptylist removed:  [1, 2, [1, 2, 3, 4], 5, 6]\n"
     ]
    }
   ],
   "source": [
    "#Write a Python program to Remove empty List from List?\n",
    "lis = [1,\n",
    "2,\n",
    "[1,2,3,4],\n",
    "[],\n",
    "5,6,[]]\n",
    "print(\"Given list :\",lis)\n",
    "lis1 = [i for i in lis if i!=[]]\n",
    "print(\"List with emptylist removed: \",lis1)"
   ]
  },
  {
   "cell_type": "code",
   "execution_count": 42,
   "metadata": {},
   "outputs": [
    {
     "name": "stdout",
     "output_type": "stream",
     "text": [
      "Enter the elements of list with size 4\n",
      "The given list is :\n",
      "[1, 10, 9, 18]\n",
      "Cloned list:  [1, 10, 9, 18]\n"
     ]
    }
   ],
   "source": [
    "#Write a Python program to Cloning or Copying a list?\n",
    "m = int(input(\"Enter the length of the list: \"))\n",
    "lis = []\n",
    "print(\"Enter the elements of list with size\",m)\n",
    "for i in range(m):\n",
    "    num = int(input())\n",
    "    lis.append(num)\n",
    "print(\"The given list is :\")\n",
    "print(lis)\n",
    "lis1=[]\n",
    "for i in lis:\n",
    "    lis1.append(i)\n",
    "print(\"Cloned list: \",lis1)\n"
   ]
  },
  {
   "cell_type": "code",
   "execution_count": 44,
   "metadata": {},
   "outputs": [
    {
     "name": "stdout",
     "output_type": "stream",
     "text": [
      "Enter the elements of list with size 5\n",
      "The given list is :\n",
      "[1, 2, 2, 3, 4]\n",
      "How many occurences of  2\n",
      "2  occurred  2 times\n"
     ]
    }
   ],
   "source": [
    "#Write a Python program to Count occurrences of an element in a list?\n",
    "def num_count(lis1,n):\n",
    "    count = 0\n",
    "    for i in lis1:\n",
    "        if(i==n):\n",
    "            count+=1\n",
    "    return count\n",
    "m = int(input(\"Enter the length of the list: \"))\n",
    "lis = []\n",
    "print(\"Enter the elements of list with size\",m)\n",
    "for i in range(m):\n",
    "    num = int(input())\n",
    "    lis.append(num)\n",
    "print(\"The given list is :\")\n",
    "print(lis)\n",
    "n=int(input(\"Enter element to be checked list: \"))\n",
    "print(\"How many occurences of \", n)\n",
    "print(n,\" occurred \",num_count(lis, n),\"times\")\n"
   ]
  }
 ],
 "metadata": {
  "interpreter": {
   "hash": "cd78fef2128015050713e82ca51c6520b11aee7c9ee8df750520bbbc7384cbaa"
  },
  "kernelspec": {
   "display_name": "Python 3.8.8 ('base')",
   "language": "python",
   "name": "python3"
  },
  "language_info": {
   "codemirror_mode": {
    "name": "ipython",
    "version": 3
   },
   "file_extension": ".py",
   "mimetype": "text/x-python",
   "name": "python",
   "nbconvert_exporter": "python",
   "pygments_lexer": "ipython3",
   "version": "3.8.8"
  },
  "orig_nbformat": 4
 },
 "nbformat": 4,
 "nbformat_minor": 2
}
