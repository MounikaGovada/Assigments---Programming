{
 "cells": [
  {
   "cell_type": "code",
   "execution_count": 2,
   "metadata": {},
   "outputs": [
    {
     "name": "stdout",
     "output_type": "stream",
     "text": [
      "Hello World\n"
     ]
    }
   ],
   "source": [
    "\"\"\" Write a program to print \"Hello World\" \"\"\"\n",
    "\n",
    "print(\"Hello World\")"
   ]
  },
  {
   "cell_type": "code",
   "execution_count": 4,
   "metadata": {},
   "outputs": [
    {
     "name": "stdout",
     "output_type": "stream",
     "text": [
      "additin 5 , division 1.5\n"
     ]
    }
   ],
   "source": [
    "#Write a program to do arithmetical operations addition and divisions\n",
    "\n",
    "a = 2\n",
    "b = 3\n",
    "c = a+b\n",
    "d = b/a\n",
    "print(f\"additin {c} , division {d}\")"
   ]
  },
  {
   "cell_type": "code",
   "execution_count": 5,
   "metadata": {},
   "outputs": [
    {
     "name": "stdout",
     "output_type": "stream",
     "text": [
      "Area of the triangle is 60.0\n"
     ]
    }
   ],
   "source": [
    "#Program to find the area of traingle\n",
    "\n",
    "base = 10\n",
    "height = 12\n",
    "area = (1/2)*base*height\n",
    "print(f\"Area of the triangle is {area}\")"
   ]
  },
  {
   "cell_type": "code",
   "execution_count": 7,
   "metadata": {},
   "outputs": [
    {
     "name": "stdout",
     "output_type": "stream",
     "text": [
      "value of a before swap 2 and b is 3\n",
      "value of a after swap is 3 and b is 2\n"
     ]
    }
   ],
   "source": [
    "#Write a program to swap two variables\n",
    "\n",
    "a = 2\n",
    "b = 3\n",
    "print(f\"value of a before swap {a} and b is {b}\")\n",
    "c = a\n",
    "a = b\n",
    "b = c\n",
    "print(f\"value of a after swap is {a} and b is {b}\")"
   ]
  },
  {
   "cell_type": "code",
   "execution_count": 9,
   "metadata": {},
   "outputs": [
    {
     "name": "stdout",
     "output_type": "stream",
     "text": [
      "random number is 73\n"
     ]
    }
   ],
   "source": [
    "#Write a program to generate random number\n",
    "\n",
    "import random\n",
    "n = random.randint(0,200)\n",
    "print(f\"random number is {n}\")"
   ]
  }
 ],
 "metadata": {
  "interpreter": {
   "hash": "cd78fef2128015050713e82ca51c6520b11aee7c9ee8df750520bbbc7384cbaa"
  },
  "kernelspec": {
   "display_name": "Python 3.8.8 ('base')",
   "language": "python",
   "name": "python3"
  },
  "language_info": {
   "codemirror_mode": {
    "name": "ipython",
    "version": 3
   },
   "file_extension": ".py",
   "mimetype": "text/x-python",
   "name": "python",
   "nbconvert_exporter": "python",
   "pygments_lexer": "ipython3",
   "version": "3.8.8"
  },
  "orig_nbformat": 4
 },
 "nbformat": 4,
 "nbformat_minor": 2
}
