{
 "cells": [
  {
   "cell_type": "code",
   "execution_count": 21,
   "metadata": {},
   "outputs": [
    {
     "name": "stdout",
     "output_type": "stream",
     "text": [
      "The d values given are :  ['100', '150', '180']\n",
      "The  values of the functions are: \n",
      " [18, 22, 24]\n"
     ]
    }
   ],
   "source": [
    "import math\n",
    "\n",
    "\"\"\"Question 1:\n",
    "Write a program that calculates and prints the value according to the given formula:\n",
    "Q = Square root of [(2 * C * D)/H]\n",
    "Following are the fixed values of C and H:\n",
    "C is 50. H is 30.\n",
    "D is the variable whose values should be input to your program in a comma-separated\n",
    "sequence.\n",
    "Example\n",
    "Let us assume the following comma separated input sequence is given to the program:\n",
    "100,150,180\n",
    "The output of the program should be:\n",
    "18,22,24\"\"\"\n",
    "\n",
    "def form(D,C=50,H=30):\n",
    "    res=[]\n",
    "    for i in D:\n",
    "      Q = round(math.sqrt((2 * C * int(i))/H))\n",
    "      res.append(Q)\n",
    "    return res\n",
    "\n",
    "dval = input(\"Enter multiple d values : \\n\")\n",
    "dval = dval.split(',')\n",
    "\n",
    "print(\"The d values given are : \",dval)\n",
    "print(\"The  values of the functions are: \\n\",form(dval))\n",
    "\n"
   ]
  },
  {
   "cell_type": "code",
   "execution_count": null,
   "metadata": {},
   "outputs": [
    {
     "name": "stdout",
     "output_type": "stream",
     "text": [
      "[[0, 0, 0, 0, 0], [0, 1, 2, 3, 4], [0, 2, 4, 6, 8]]\n"
     ]
    }
   ],
   "source": [
    "\"\"\"Question 2:\n",
    "Write a program which takes 2 digits, X,Y as input and generates a 2-dimensional array. The\n",
    "element value in the i-th row and j-th column of the array should be i*j.\n",
    "Note: i=0,1.., X-1; j=0,1,¡Y-1.\n",
    "Example\n",
    "Suppose the following inputs are given to the program:\n",
    "3,5\n",
    "Then, the output of the program should be:\n",
    "[[0, 0, 0, 0, 0], [0, 1, 2, 3, 4], [0, 2, 4, 6, 8]]\"\"\"\n",
    "\n",
    "m = int(input(\"Enter the value of number of rows m :\"))\n",
    "n = int(input(\"Enter the value of number of columns n :\"))\n",
    "lis = [[0 for j in range(n)]for i in range(m)]\n",
    "\n",
    "for i in range(m):\n",
    "    for j in range(n):\n",
    "        lis[i][j] = i*j\n",
    "\n",
    "print(lis)\n",
    "\n"
   ]
  },
  {
   "cell_type": "code",
   "execution_count": 5,
   "metadata": {},
   "outputs": [
    {
     "name": "stdout",
     "output_type": "stream",
     "text": [
      "Give values : ['this', 'is', 'test', 'for', 'sorting']\n",
      "Sorted list ['for', 'is', 'sorting', 'test', 'this']\n"
     ]
    }
   ],
   "source": [
    "\"\"\"Question 3:\n",
    "Write a program that accepts a comma separated sequence of words as input and prints the\n",
    "words in a comma-separated sequence after sorting them alphabetically.\n",
    "Suppose the following input is supplied to the program:\n",
    "without,hello,bag,world\n",
    "Then, the output should be:\n",
    "bag,hello,without,world\"\"\"\n",
    "\n",
    "words = input(\"Enter multiple d values : \\n\")\n",
    "words = words.split(',')\n",
    "print(\"Give values :\",words)\n",
    "lst=[]\n",
    "for i in words:\n",
    "    lst.append(i)\n",
    "    lst.sort()\n",
    "print(\"Sorted list\",lst)"
   ]
  },
  {
   "cell_type": "code",
   "execution_count": 12,
   "metadata": {},
   "outputs": [
    {
     "name": "stdout",
     "output_type": "stream",
     "text": [
      "Give values : ['This', 'is', 'given', 'list', 'and', 'list', 'contains', 'word']\n",
      "Sorted list ['This', 'and', 'contains', 'given', 'is', 'list', 'word']\n"
     ]
    }
   ],
   "source": [
    "\"\"\"Question 4:\n",
    "Write a program that accepts a sequence of whitespace separated words as input and prints\n",
    "the words after removing all duplicate words and sorting them alphanumerically.\n",
    "Suppose the following input is supplied to the program:\n",
    "hello world and practice makes perfect and hello world again\n",
    "Then, the output should be:\n",
    "again and hello makes perfect practice world\"\"\"\n",
    "\n",
    "words = input(\"Enter multiple words : \\n\")\n",
    "words = words.split(' ')\n",
    "print(\"Give values :\",words)\n",
    "lst=[]\n",
    "for i in words:\n",
    "    if i not in lst:\n",
    "      lst.append(i)\n",
    "    else:\n",
    "        continue\n",
    "    lst.sort()\n",
    "print(\"Sorted list\",lst)\n"
   ]
  },
  {
   "cell_type": "code",
   "execution_count": 19,
   "metadata": {},
   "outputs": [
    {
     "name": "stdout",
     "output_type": "stream",
     "text": [
      "Give value : hellotest123456\n",
      "LETTERS  9\n",
      "DIGITS  6\n"
     ]
    }
   ],
   "source": [
    "\"\"\"Question 5:\n",
    "Write a program that accepts a sentence and calculate the number of letters and digits.\n",
    "Suppose the following input is supplied to the program:\n",
    "hello world! 123\n",
    "Then, the output should be:\n",
    "LETTERS 10\n",
    "DIGITS 3\"\"\"\n",
    "\n",
    "words = input(\"Enter words : \\n\")\n",
    "print(\"Give value :\",words)\n",
    "words = list(words)\n",
    "lst_num = 0\n",
    "lst_word = 0\n",
    "for i in words:\n",
    "        if i.isalpha():\n",
    "            lst_word+=1\n",
    "        if i.isdigit():\n",
    "            lst_num+=1\n",
    "print('LETTERS ',lst_word)  \n",
    "print('DIGITS ',lst_num)      \n"
   ]
  },
  {
   "cell_type": "code",
   "execution_count": 26,
   "metadata": {},
   "outputs": [
    {
     "name": "stdout",
     "output_type": "stream",
     "text": [
      "Given list of passwords:  ABd1234@1,a F1#,2w3E*,2We3345,Abcd@123,Valid$345\n",
      "Valid passwords ['ABd1234@1', 'Abcd@123', 'Valid$345']\n"
     ]
    }
   ],
   "source": [
    "\"\"\"Question 6:\n",
    "A website requires the users to input username and password to register. Write a program to\n",
    "check the validity of password input by users.\n",
    "Following are the criteria for checking the password:\n",
    "1. At least 1 letter between [a-z]\n",
    "2. At least 1 number between [0-9]\n",
    "1. At least 1 letter between [A-Z]\n",
    "3. At least 1 character from [$#@]\n",
    "4. Minimum length of transaction password: 6\n",
    "5. Maximum length of transaction password: 12\n",
    "Your program should accept a sequence of comma separated passwords and will check them\n",
    "according to the above criteria. Passwords that match the criteria are to be printed, each\n",
    "separated by a comma.\n",
    "Example\n",
    "If the following passwords are given as input to the program:\n",
    "ABd1234@1,a F1#,2w3E*,2We3345\n",
    "Then, the output of the program should be:\n",
    "ABd1234@1\"\"\"\n",
    "import re\n",
    "password = input(\"Enter a list of passwords : \")\n",
    "print(\"Given list of passwords: \",password)\n",
    "password_input = password.split(\",\")\n",
    "match_pass = []\n",
    "for i in password_input:\n",
    "    if len(i) < 6 or len(i) > 12:\n",
    "        continue\n",
    "    elif not re.search(\"([a-z])+\",i):\n",
    "        continue\n",
    "    elif not re.search(\"([A-Z])+\", i):\n",
    "        continue\n",
    "    elif not re.search(\"([0-9])+\", i):\n",
    "        continue\n",
    "    elif not re.search(\"([@$#])+\", i):\n",
    "        continue\n",
    "    else:\n",
    "        match_pass.append(i)\n",
    "print(\"Valid passwords\",match_pass)"
   ]
  }
 ],
 "metadata": {
  "interpreter": {
   "hash": "cd78fef2128015050713e82ca51c6520b11aee7c9ee8df750520bbbc7384cbaa"
  },
  "kernelspec": {
   "display_name": "Python 3.8.8 ('base')",
   "language": "python",
   "name": "python3"
  },
  "language_info": {
   "codemirror_mode": {
    "name": "ipython",
    "version": 3
   },
   "file_extension": ".py",
   "mimetype": "text/x-python",
   "name": "python",
   "nbconvert_exporter": "python",
   "pygments_lexer": "ipython3",
   "version": "3.8.8"
  },
  "orig_nbformat": 4
 },
 "nbformat": 4,
 "nbformat_minor": 2
}
