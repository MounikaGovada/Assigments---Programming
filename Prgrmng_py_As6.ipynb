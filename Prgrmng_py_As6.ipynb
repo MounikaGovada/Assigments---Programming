{
 "cells": [
  {
   "cell_type": "code",
   "execution_count": 7,
   "metadata": {},
   "outputs": [
    {
     "name": "stdout",
     "output_type": "stream",
     "text": [
      "Fibnoicci series\n",
      "0\n",
      "1\n",
      "1\n",
      "2\n",
      "3\n",
      "5\n",
      "8\n",
      "13\n",
      "21\n",
      "34\n"
     ]
    }
   ],
   "source": [
    "#Write a program to display fibnoicci series using Recursion\n",
    "\n",
    "num = int(input(\"Enter the number of terms :\"))\n",
    "\n",
    "def recur_fibbo(n):\n",
    "    if n <= 1:\n",
    "        return n\n",
    "    else:\n",
    "        return(recur_fibbo(n-1)+recur_fibbo(n-2))\n",
    "\n",
    "#function checking\n",
    "if num <= 0:\n",
    "    print(\"Enter a valid number of terms\")\n",
    "else:\n",
    "    print(\"Fibnoicci series\")\n",
    "    for i in range(num):\n",
    "      print(recur_fibbo(i))\n"
   ]
  },
  {
   "cell_type": "code",
   "execution_count": 8,
   "metadata": {},
   "outputs": [
    {
     "name": "stdout",
     "output_type": "stream",
     "text": [
      "The factorial of the number is 6\n"
     ]
    }
   ],
   "source": [
    "#Write a program to find the factprial using recursion\n",
    "\n",
    "num = int(input(\"Enter the number:\"))\n",
    "\n",
    "def factorial(n):\n",
    "    if n<=1:\n",
    "        return 1\n",
    "    else:\n",
    "        return(n*factorial(n-1))\n",
    "\n",
    "if num == 0:\n",
    "    print(\"enter a valid number\")\n",
    "else:\n",
    "    print('The factorial of the number is',factorial(num))\n"
   ]
  },
  {
   "cell_type": "code",
   "execution_count": 7,
   "metadata": {},
   "outputs": [
    {
     "name": "stdout",
     "output_type": "stream",
     "text": [
      "The BMI for 50.0 kgs and for the height 150.0 meters is You are healthy.\n"
     ]
    }
   ],
   "source": [
    "#Write a program to calculate body mass index\n",
    "\n",
    "\n",
    "\n",
    "def BMI_cal(w,h):\n",
    "    bmi = w/(h/100)**2\n",
    "    \n",
    "    if bmi <= 18.4:\n",
    "      return(\"You are underweight.\")\n",
    "    elif bmi <= 24.9:\n",
    "      return(\"You are healthy.\")\n",
    "    elif bmi <= 29.9:\n",
    "      return(\"You are over weight.\")\n",
    "    elif bmi <= 34.9:\n",
    "      return(\"You are severely over weight.\")\n",
    "    elif bmi <= 39.9:\n",
    "      return(\"You are obese.\")\n",
    "    else:\n",
    "      return(\"You are severely obese.\")\n",
    "\n",
    "weight = float(input(\"Enter your weight in kgs:\"))\n",
    "height = float(input(\"Enter your height in meters:\"))   \n",
    "print('The BMI for', weight, 'kgs and for the height', height, 'meters is' , BMI_cal(weight,height))\n",
    "\n"
   ]
  },
  {
   "cell_type": "code",
   "execution_count": 8,
   "metadata": {},
   "outputs": [
    {
     "name": "stdout",
     "output_type": "stream",
     "text": [
      "The logarithm value of 2 is 0.6931471805599453\n"
     ]
    }
   ],
   "source": [
    "#Write a program to calculate the natural logarithmof any number\n",
    "import math\n",
    "num = int(input(\"Enter  the number :\"))\n",
    "def algo_value(n):\n",
    "    val = math.log(n)\n",
    "    return val\n",
    "\n",
    "print(\"The logarithm value of\",num, 'is',algo_value(num))"
   ]
  },
  {
   "cell_type": "code",
   "execution_count": 9,
   "metadata": {},
   "outputs": [
    {
     "name": "stdout",
     "output_type": "stream",
     "text": [
      "The cube sum of 3 natural numbers is 36\n"
     ]
    }
   ],
   "source": [
    "#Write a program to find the cube sum of first n natural numbers\n",
    "\n",
    "num = int(input(\"Enter the number of natural numbers:\"))\n",
    "\n",
    "def cube_sum(n):\n",
    "    sum = 0\n",
    "    for i in range(1,n+1):\n",
    "        sum+=(i*i*i)\n",
    "    return sum\n",
    "print('The cube sum of', num, 'natural numbers is',cube_sum(num))\n"
   ]
  }
 ],
 "metadata": {
  "interpreter": {
   "hash": "cd78fef2128015050713e82ca51c6520b11aee7c9ee8df750520bbbc7384cbaa"
  },
  "kernelspec": {
   "display_name": "Python 3.8.8 ('base')",
   "language": "python",
   "name": "python3"
  },
  "language_info": {
   "codemirror_mode": {
    "name": "ipython",
    "version": 3
   },
   "file_extension": ".py",
   "mimetype": "text/x-python",
   "name": "python",
   "nbconvert_exporter": "python",
   "pygments_lexer": "ipython3",
   "version": "3.8.8"
  },
  "orig_nbformat": 4
 },
 "nbformat": 4,
 "nbformat_minor": 2
}
