{
 "cells": [
  {
   "cell_type": "code",
   "execution_count": 6,
   "metadata": {},
   "outputs": [
    {
     "name": "stdout",
     "output_type": "stream",
     "text": [
      "Enter the order of first matrix n(nxn) : \n",
      "Enter the elements\n",
      "[[1, 2, 3], [4, 5, 6], [7, 8, 9]]\n",
      "123\n",
      "456\n",
      "789\n",
      "Enter the order of second matrix n(nxn) : \n",
      "Enter the elements\n",
      "[[1, 2, 3], [4, 5, 6], [7, 8, 9]]\n",
      "123\n",
      "456\n",
      "789\n",
      "Resultant matrix:\n",
      "[2, 4, 6]\n",
      "[8, 10, 12]\n",
      "[14, 16, 18]\n"
     ]
    }
   ],
   "source": [
    "#Write a Python Program to Add Two Matrices?\n",
    "A = []\n",
    "n = int(input(print(\"Enter the order of first matrix n(nxn) : \")))\n",
    "print(\"Enter the elements\")\n",
    "for i in range(n):\n",
    "    row = []\n",
    "    for j in range(n):\n",
    "        row.append(int(input()))\n",
    "    A.append(row)\n",
    "print(A)\n",
    "#printing the matrix form\n",
    "for i in range(n):\n",
    "    for j in range(n):\n",
    "        print(A[i][j],end='')\n",
    "    print('')\n",
    "B = []\n",
    "m = int(input(print(\"Enter the order of second matrix n(nxn) : \")))\n",
    "print(\"Enter the elements\")\n",
    "for i in range(m):\n",
    "    row1 = []\n",
    "    for j in range(m):\n",
    "        row1.append(int(input()))\n",
    "    B.append(row1)\n",
    "print(B)\n",
    "#printing the matrix form\n",
    "for i in range(m):\n",
    "    for j in range(m):\n",
    "        print(B[i][j],end='')\n",
    "    print()   \n",
    "\n",
    "result=[[0,0,0],\n",
    "        [0,0,0],\n",
    "        [0,0,0]]  \n",
    "\n",
    "for i in range(n):\n",
    "    for j in range(len(A[i])):\n",
    "        result[i][j] = A[i][j]+B[i][j]\n",
    "    \n",
    "print(\"Resultant matrix:\")\n",
    "for r in result:\n",
    "    print(r)\n",
    "\n",
    "\n"
   ]
  },
  {
   "cell_type": "code",
   "execution_count": 13,
   "metadata": {},
   "outputs": [
    {
     "name": "stdout",
     "output_type": "stream",
     "text": [
      "Enter the element ::>\n",
      "[[1, 2, 3], [4, 5, 6], [7, 8, 9]]\n",
      "First matrix  3 X 3\n",
      "1 2 3 \n",
      "4 5 6 \n",
      "7 8 9 \n",
      "Enter the element ::>\n",
      "[[1, 2, 3], [4, 5, 6], [7, 8, 9]]\n",
      "Second matrix  3 X 3\n",
      "1 2 3 \n",
      "4 5 6 \n",
      "7 8 9 \n",
      "The Resultant Matrix Is ::>\n",
      "[30, 36, 42]\n",
      "[66, 81, 96]\n",
      "[102, 126, 150]\n"
     ]
    }
   ],
   "source": [
    "#Write a Python Program to Multiply Two Matrices?\n",
    "A=[]\n",
    "n=int(input(\"Enter N for N x N matrix: \"))         \n",
    "print(\"Enter the element ::>\")\n",
    "for i in range(n): \n",
    "   row=[]                                      #temporary list to store the row\n",
    "   for j in range(n): \n",
    "      row.append(int(input()))           #add the input to row list\n",
    "   A.append(row)                      #add the row to the list\n",
    "print(A)\n",
    "# [[1, 2, 3], [4, 5, 6], [7, 8, 9]]\n",
    "#Display the 2D array\n",
    "print(\"First matrix \",n,\"X\",n)\n",
    "for i in range(n):\n",
    "   for j in range(n):\n",
    "      print(A[i][j], end=\" \")\n",
    "   print()                                        #new line\n",
    "B=[]\n",
    "n=int(input(\"Enter N for N x N matrix : \"))           #3 here\n",
    "#use list for storing 2D array\n",
    "#get the user input and store it in list (here IN : 1 to 9)\n",
    "print(\"Enter the element ::>\")\n",
    "for i in range (n): \n",
    "   row=[]                                      #temporary list to store the row\n",
    "   for j in range(n): \n",
    "      row.append(int(input()))           #add the input to row list\n",
    "   B.append(row)                       #add the row to the list\n",
    "print(B)\n",
    "# [[1, 2, 3], [4, 5, 6], [7, 8, 9]]\n",
    "#Display the 2D array\n",
    "print(\"Second matrix \",n,\"X\",n)\n",
    "for i in range(n):\n",
    "   for j in range(n):\n",
    "      print(B[i][j], end=\" \")\n",
    "   print()                                           \n",
    "result = [[0,0,0], [0,0,0], [0,0,0]] \n",
    "for i in range(len(A)): \n",
    "   for j in range(len(B[0])): \n",
    "      for k in range(len(B)): \n",
    "         result[i][j] += A[i][k] * B[k][j] \n",
    "print(\"The Resultant Matrix Is ::>\")\n",
    "for r in result: \n",
    "   print(r)"
   ]
  },
  {
   "cell_type": "code",
   "execution_count": 17,
   "metadata": {},
   "outputs": [
    {
     "name": "stdout",
     "output_type": "stream",
     "text": [
      "Enter the element ::>\n",
      "[[1, 2, 3], [4, 5, 6], [7, 8, 9]]\n",
      "1 2 3 \n",
      "4 5 6 \n",
      "7 8 9 \n",
      "Transpose of the matrix:\n",
      "[1, 4, 7]\n",
      "[2, 5, 8]\n",
      "[3, 6, 9]\n"
     ]
    }
   ],
   "source": [
    "#Write a Python Program to Transpose a Matrix?\n",
    "A=[]\n",
    "m= int(input(\"Enter no of rows for N x N matrix: \")) \n",
    "n = int(input(\"Enter no of columns for N x N matrix: \"))\n",
    "print(\"Enter the element ::>\")\n",
    "for i in range(m): \n",
    "   row=[]                                      #temporary list to store the row\n",
    "   for j in range(n): \n",
    "      row.append(int(input()))           #add the input to row list\n",
    "   A.append(row)                      #add the row to the list\n",
    "print(A)\n",
    "for i in range(m):\n",
    "   for j in range(n):\n",
    "      print(A[i][j], end=\" \")\n",
    "   print() \n",
    "result = [[0,0,0], [0,0,0], [0,0,0]] \n",
    "#transpose of matrix\n",
    "for i in range(m):\n",
    "    for j in range(n):\n",
    "       result[j][i]=A[i][j]\n",
    "print(\"Transpose of the matrix:\")\n",
    "for r in result:\n",
    "   print(r)\n",
    "\n",
    "        "
   ]
  },
  {
   "cell_type": "code",
   "execution_count": 25,
   "metadata": {},
   "outputs": [
    {
     "name": "stdout",
     "output_type": "stream",
     "text": [
      "Given string: This string has to be sorted in Alphabetic order\n",
      "alphabetic\n",
      "be\n",
      "has\n",
      "in\n",
      "order\n",
      "sorted\n",
      "string\n",
      "this\n",
      "to\n"
     ]
    }
   ],
   "source": [
    "#Write a Python Program to Sort Words in Alphabetic Order?\n",
    "word_str = input(\"Enter the string for sorting the words:\")\n",
    "print(\"Given string:\", word_str)\n",
    "words = [i.lower() for i in word_str.split()]\n",
    "words.sort()\n",
    "#print sorted words\n",
    "for i in words:\n",
    "    print(i)"
   ]
  },
  {
   "cell_type": "code",
   "execution_count": 28,
   "metadata": {},
   "outputs": [
    {
     "name": "stdout",
     "output_type": "stream",
     "text": [
      "The string is: This \"Test\" string,,, has some !!! punctulaton marks /? in it\n",
      "Modified string: This Test string has some  punctulaton marks  in it\n"
     ]
    }
   ],
   "source": [
    "#Write a Python Program to Remove Punctuation From a String?\n",
    "punctuations = '''!()-[]{};:'\"\\,<>./?@#$%^&*_~'''\n",
    "my_str = input(\"Enter a string:\")\n",
    "print(\"The string is:\",my_str)\n",
    "no_punct = \"\"\n",
    "for char in my_str:\n",
    "    if char not in punctuations:\n",
    "        no_punct = no_punct + char\n",
    "print(\"Modified string:\",no_punct)"
   ]
  }
 ],
 "metadata": {
  "interpreter": {
   "hash": "cd78fef2128015050713e82ca51c6520b11aee7c9ee8df750520bbbc7384cbaa"
  },
  "kernelspec": {
   "display_name": "Python 3.8.8 ('base')",
   "language": "python",
   "name": "python3"
  },
  "language_info": {
   "codemirror_mode": {
    "name": "ipython",
    "version": 3
   },
   "file_extension": ".py",
   "mimetype": "text/x-python",
   "name": "python",
   "nbconvert_exporter": "python",
   "pygments_lexer": "ipython3",
   "version": "3.8.8"
  },
  "orig_nbformat": 4
 },
 "nbformat": 4,
 "nbformat_minor": 2
}
