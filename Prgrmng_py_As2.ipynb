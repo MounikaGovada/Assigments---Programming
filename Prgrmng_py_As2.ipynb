{
 "cells": [
  {
   "cell_type": "code",
   "execution_count": 1,
   "metadata": {},
   "outputs": [
    {
     "name": "stdout",
     "output_type": "stream",
     "text": [
      "5 Kilometerrs is equal to 3.1068499999999997 miles\n"
     ]
    }
   ],
   "source": [
    "#Write program to convert kilo meters to miles\n",
    "\n",
    "kms = 5\n",
    "miles = kms * 0.62137\n",
    "print(f\"{kms} Kilometerrs is equal to {miles} miles\")"
   ]
  },
  {
   "cell_type": "code",
   "execution_count": 6,
   "metadata": {},
   "outputs": [
    {
     "name": "stdout",
     "output_type": "stream",
     "text": [
      "32celsius is 33.8Fahrenheit\n"
     ]
    }
   ],
   "source": [
    "#Write program to convert celsius to Fahrenheit\n",
    "\n",
    "Cel = 32\n",
    "Fah = (9/5)+32\n",
    "print(f\"{Cel}celsius is {Fah}Fahrenheit\")\n"
   ]
  },
  {
   "cell_type": "code",
   "execution_count": 9,
   "metadata": {},
   "outputs": [
    {
     "name": "stdout",
     "output_type": "stream",
     "text": [
      "     April 2020\n",
      "Mo Tu We Th Fr Sa Su\n",
      "       1  2  3  4  5\n",
      " 6  7  8  9 10 11 12\n",
      "13 14 15 16 17 18 19\n",
      "20 21 22 23 24 25 26\n",
      "27 28 29 30\n",
      "\n"
     ]
    }
   ],
   "source": [
    "#Write a program to display calendar\n",
    "import calendar\n",
    "year = int(input('Please enter the year: '))\n",
    "month = int(input('Please enter the month: '))\n",
    "print(calendar.month(year,month))\n"
   ]
  },
  {
   "cell_type": "code",
   "execution_count": 16,
   "metadata": {},
   "outputs": [
    {
     "name": "stdout",
     "output_type": "stream",
     "text": [
      "the roots of equation are -4.5 and -5.5\n"
     ]
    }
   ],
   "source": [
    "#Write a program to solve quadratic equation\n",
    "import math\n",
    "a = int(input('Enter the value of a:'))\n",
    "b = int(input('Enter the value of b:'))\n",
    "c = int(input('Enter the value of c:'))\n",
    "\n",
    "det = math.sqrt((b*b)-(4*a*c))\n",
    "root1 = (-b)+det/(2*a)\n",
    "root2 = (-b)-det/(2*a)\n",
    "\n",
    "print(f\"the roots of equation are {root1} and {root2}\")\n"
   ]
  },
  {
   "cell_type": "code",
   "execution_count": 19,
   "metadata": {},
   "outputs": [
    {
     "name": "stdout",
     "output_type": "stream",
     "text": [
      "the value of a,b before swaping is 2 3\n",
      "the value of a 3 after snip and b is 2\n"
     ]
    }
   ],
   "source": [
    " a = 2\n",
    " b = 3\n",
    " print(f\"the value of a,b before swaping is {a} {b}\")\n",
    "\n",
    " a = a+b\n",
    " b = a-b\n",
    " a = a-b\n",
    "\n",
    " print(f\"the value of a {a} after snip and b is {b}\")"
   ]
  }
 ],
 "metadata": {
  "interpreter": {
   "hash": "cd78fef2128015050713e82ca51c6520b11aee7c9ee8df750520bbbc7384cbaa"
  },
  "kernelspec": {
   "display_name": "Python 3.8.8 ('base')",
   "language": "python",
   "name": "python3"
  },
  "language_info": {
   "codemirror_mode": {
    "name": "ipython",
    "version": 3
   },
   "file_extension": ".py",
   "mimetype": "text/x-python",
   "name": "python",
   "nbconvert_exporter": "python",
   "pygments_lexer": "ipython3",
   "version": "3.8.8"
  },
  "orig_nbformat": 4
 },
 "nbformat": 4,
 "nbformat_minor": 2
}
