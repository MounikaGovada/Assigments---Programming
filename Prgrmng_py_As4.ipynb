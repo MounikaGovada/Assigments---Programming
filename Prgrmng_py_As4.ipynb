{
 "cells": [
  {
   "cell_type": "code",
   "execution_count": 9,
   "metadata": {},
   "outputs": [
    {
     "name": "stdout",
     "output_type": "stream",
     "text": [
      "the value of 5 factorial is 120\n"
     ]
    }
   ],
   "source": [
    "#Write a program to find teh factorial of the number\n",
    "\n",
    "num = int(input(\"Enter the number: \"))\n",
    "fact = 1\n",
    "\n",
    "for i in range(2,num+1):\n",
    "         fact = fact*i\n",
    "print(f\"the value of {num} factorial is {fact}\")\n",
    "\n",
    "    "
   ]
  },
  {
   "cell_type": "code",
   "execution_count": 11,
   "metadata": {},
   "outputs": [
    {
     "name": "stdout",
     "output_type": "stream",
     "text": [
      "9 * 1 = 9\n",
      "9 * 2 = 18\n",
      "9 * 3 = 27\n",
      "9 * 4 = 36\n",
      "9 * 5 = 45\n",
      "9 * 6 = 54\n",
      "9 * 7 = 63\n",
      "9 * 8 = 72\n",
      "9 * 9 = 81\n",
      "9 * 10 = 90\n"
     ]
    }
   ],
   "source": [
    "#Write a program to display the multiplication table\n",
    "\n",
    "num = int(input(\"Enter the table required: \"))\n",
    "\n",
    "for i in range(1,11):\n",
    "    val = i*num\n",
    "    print(f\"{num} * {i} = {val}\")"
   ]
  },
  {
   "cell_type": "code",
   "execution_count": 13,
   "metadata": {},
   "outputs": [
    {
     "name": "stdout",
     "output_type": "stream",
     "text": [
      "0\n",
      "1\n",
      "1\n",
      "2\n",
      "3\n"
     ]
    }
   ],
   "source": [
    "#Write a program fibonacci series\n",
    "\n",
    "nterms = int(input(\"Enter the number of terms:\"))\n",
    "num1 = 0\n",
    "num2= 1\n",
    "count = 0\n",
    "sum=0\n",
    "if nterms<= 0:\n",
    "    print(\"Please enter a valid num\")\n",
    "elif nterms==1:\n",
    "    print(f\"Fibnocci series for nterms is {nterms}\")\n",
    "else:\n",
    "    while(count<nterms):\n",
    "        sum = sum+num1\n",
    "        num1 = num2\n",
    "        num2 = sum\n",
    "        print(f\"{sum}\")\n",
    "        count+=1"
   ]
  },
  {
   "cell_type": "code",
   "execution_count": 15,
   "metadata": {},
   "outputs": [
    {
     "name": "stdout",
     "output_type": "stream",
     "text": [
      "the number 123 is not armstrong number\n"
     ]
    }
   ],
   "source": [
    "#Write a program to check te number is armstrong \n",
    "\n",
    "num = int(input(\"Enter the number: \"))\n",
    "sum = 0\n",
    "temp = num\n",
    "while temp>0:\n",
    "    digit = num%10\n",
    "    sum+= digit**3\n",
    "    temp=temp//10\n",
    "\n",
    "if(num==sum):\n",
    "    print(f\"The number {num} is an armstrong number\")\n",
    "else:\n",
    "    print(f\"The number {num} is not armstrong number\")\n"
   ]
  },
  {
   "cell_type": "code",
   "execution_count": 26,
   "metadata": {},
   "outputs": [
    {
     "name": "stdout",
     "output_type": "stream",
     "text": [
      "370 is an armstrong number\n",
      "371 is an armstrong number\n",
      "407 is an armstrong number\n",
      "1634 is an armstrong number\n"
     ]
    }
   ],
   "source": [
    "#Write a program to check te list of armstrong number in an interval\n",
    "\n",
    "lower = int(input(\"Enter the lower interval: \"))\n",
    "upper = int(input(\"Enter the upper interval: \"))\n",
    "\n",
    "for n in range(lower, upper + 1):\n",
    "\n",
    "   # order of number\n",
    "   order = len(str(n))\n",
    "   sum = 0\n",
    "   temp = n\n",
    "   while temp > 0:\n",
    "       digit = temp % 10\n",
    "       sum += digit ** order\n",
    "       temp //= 10\n",
    "\n",
    "   if n == sum:\n",
    "       print(f\"{n} is an armstrong number\")\n"
   ]
  }
 ],
 "metadata": {
  "interpreter": {
   "hash": "cd78fef2128015050713e82ca51c6520b11aee7c9ee8df750520bbbc7384cbaa"
  },
  "kernelspec": {
   "display_name": "Python 3.8.8 ('base')",
   "language": "python",
   "name": "python3"
  },
  "language_info": {
   "codemirror_mode": {
    "name": "ipython",
    "version": 3
   },
   "file_extension": ".py",
   "mimetype": "text/x-python",
   "name": "python",
   "nbconvert_exporter": "python",
   "pygments_lexer": "ipython3",
   "version": "3.8.8"
  },
  "orig_nbformat": 4
 },
 "nbformat": 4,
 "nbformat_minor": 2
}
