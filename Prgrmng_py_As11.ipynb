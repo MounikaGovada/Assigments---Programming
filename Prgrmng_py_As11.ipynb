{
 "cells": [
  {
   "cell_type": "code",
   "execution_count": 5,
   "metadata": {},
   "outputs": [
    {
     "name": "stdout",
     "output_type": "stream",
     "text": [
      "Given string is :  Hello this is a test string from assignment\n",
      "Given length is :  4\n",
      "The words greater than given length is : ['Hello', 'string', 'assignment']\n"
     ]
    }
   ],
   "source": [
    "#Write a Python program to find words which are greater than given length k?\n",
    "def str_len(k,strlst):\n",
    "    \n",
    "    temp=[]\n",
    "    text = strlst.split(\" \")\n",
    "    for i in text:\n",
    "        if len(i)>k:\n",
    "            temp.append(i)\n",
    "    return temp\n",
    "\n",
    "str_input = input(\"Enter a string: \")\n",
    "wrd_len = int(input(\"Enter the length k: \"))\n",
    "print(\"Given string is : \",str_input)\n",
    "print(\"Given length is : \",wrd_len)\n",
    "\n",
    "print(\"The words greater than given length is :\",str_len(wrd_len,str_input))"
   ]
  },
  {
   "cell_type": "code",
   "execution_count": 10,
   "metadata": {},
   "outputs": [
    {
     "name": "stdout",
     "output_type": "stream",
     "text": [
      "Give string is :  welcome\n",
      "The index of character to be removed is :  2\n",
      "Final string is  wecome\n"
     ]
    }
   ],
   "source": [
    "#Write a Python program for removing i-th character from a string?\n",
    "\n",
    "def char_remove(strlst,char_index):\n",
    "    for i in range(len(strlst)):\n",
    "        if i==char_index:\n",
    "            strlst = strlst.replace(strlst[i],\"\",1)\n",
    "    return strlst\n",
    "\n",
    "str = input(\"Enter string : \")\n",
    "print(\"Give string is : \",str)\n",
    "ind = int(input(\"Enter the removing the character: \"))\n",
    "print(\"The index of character to be removed is : \",ind)\n",
    "print(\"Final string is \",char_remove(str,ind))"
   ]
  },
  {
   "cell_type": "code",
   "execution_count": 16,
   "metadata": {},
   "outputs": [
    {
     "name": "stdout",
     "output_type": "stream",
     "text": [
      "Give string is :  welcome to test split and test join\n",
      "String after split :  ['welcome', 'to', 'test', 'split', 'and', 'test', 'join']\n",
      "String after joining :  welcome-to-test-split-and-test-join\n"
     ]
    }
   ],
   "source": [
    "#Write a Python program to split and join a string?\n",
    "str = input(\"Enter string : \")\n",
    "print(\"Give string is : \",str)\n",
    "split_str = []\n",
    "print(\"String after split : \", str.split())\n",
    "for i in str.split():\n",
    "    split_str.append(i)\n",
    "join_str = []\n",
    "for i in split_str:\n",
    "    string = '-'.join(split_str)\n",
    "print(\"String after joining : \", string)"
   ]
  },
  {
   "cell_type": "code",
   "execution_count": 18,
   "metadata": {},
   "outputs": [
    {
     "name": "stdout",
     "output_type": "stream",
     "text": [
      "Give string is :  101010101001010111\n",
      "This is a binary string\n"
     ]
    }
   ],
   "source": [
    "#Write a Python to check if a given string is binary string or not?\n",
    "def check_bin(str_input):\n",
    "    val = {'0','1'}\n",
    "    str_set = set(str_input)\n",
    "    if val==str_set or str_set == {0} or str_set == {1}:\n",
    "        return \"This is a binary string\"\n",
    "    else:\n",
    "        return \"This is not a binary string\"\n",
    "\n",
    "str = input(\"Enter string : \")\n",
    "print(\"Give string is : \",str)\n",
    "print(check_bin(str))"
   ]
  },
  {
   "cell_type": "code",
   "execution_count": 25,
   "metadata": {},
   "outputs": [
    {
     "name": "stdout",
     "output_type": "stream",
     "text": [
      "Give string 1 is :  This is string one\n",
      "Give string 2  is :  This is string two\n",
      "Uncommon words :  ['one', 'two']\n"
     ]
    }
   ],
   "source": [
    "#Write a Python program to find uncommon words from two Strings?\n",
    "\n",
    "def uncommon(A, B):\n",
    "    count = {}\n",
    "    for word in A.split():\n",
    "        count[word] = count.get(word, 0) + 1\n",
    "    # words of string s2\n",
    "    for word in B.split():\n",
    "        count[word] = count.get(word, 0) + 1\n",
    "    # return required list of words\n",
    "    return [word for word in count if count[word] == 1]\n",
    "  \n",
    "#Driver code\n",
    "str1 = input(\"Enter string 1 : \")\n",
    "print(\"Give string 1 is : \",str1)\n",
    "str2 = input(\"Enter string 2 : \")\n",
    "print(\"Give string 2  is : \",str2)\n",
    "print(\"Uncommon words : \", uncommon(str1, str2))"
   ]
  },
  {
   "cell_type": "code",
   "execution_count": 35,
   "metadata": {},
   "outputs": [
    {
     "name": "stdout",
     "output_type": "stream",
     "text": [
      "Give string 1 is :  test string\n",
      "Duplicate string:\n",
      " t\n",
      "Duplicate string:\n",
      " s\n"
     ]
    }
   ],
   "source": [
    "#Write a Python to find all duplicate characters in string?\n",
    "str1 = input(\"Enter string 1 : \")\n",
    "print(\"Give string 1 is : \",str1)\n",
    "\n",
    "duplicates = {}\n",
    "for char in str1:\n",
    "   if char in duplicates:\n",
    "      duplicates[char] += 1\n",
    "   else:\n",
    "      duplicates[char] = 1\n",
    "for key, value in duplicates.items():\n",
    "   if value > 1:\n",
    "     print(\"Duplicate string:\\n\", key)\n"
   ]
  },
  {
   "cell_type": "code",
   "execution_count": 36,
   "metadata": {},
   "outputs": [
    {
     "name": "stdout",
     "output_type": "stream",
     "text": [
      "Give string 1 is :  teststringwithspecial characters@3454^&(*&^\n",
      "String contains special characters.\n"
     ]
    }
   ],
   "source": [
    "#Write a Python Program to check if a string contains any special character?\n",
    "import re\n",
    "\n",
    "str1 = input(\"Enter string : \")\n",
    "print(\"Give string 1 is : \",str1)\n",
    " \n",
    "# special characters\n",
    "special_char = re.compile('[@_!#$%^&*()<>?/\\|}{~:]')\n",
    "\n",
    "# check string contains special characters or not\n",
    "if(special_char.search(str1) == None):\n",
    "    print('String does not contain any special characters.')\n",
    "else:\n",
    "    print('String contains special characters.')"
   ]
  }
 ],
 "metadata": {
  "interpreter": {
   "hash": "cd78fef2128015050713e82ca51c6520b11aee7c9ee8df750520bbbc7384cbaa"
  },
  "kernelspec": {
   "display_name": "Python 3.8.8 ('base')",
   "language": "python",
   "name": "python3"
  },
  "language_info": {
   "codemirror_mode": {
    "name": "ipython",
    "version": 3
   },
   "file_extension": ".py",
   "mimetype": "text/x-python",
   "name": "python",
   "nbconvert_exporter": "python",
   "pygments_lexer": "ipython3",
   "version": "3.8.8"
  },
  "orig_nbformat": 4
 },
 "nbformat": 4,
 "nbformat_minor": 2
}
