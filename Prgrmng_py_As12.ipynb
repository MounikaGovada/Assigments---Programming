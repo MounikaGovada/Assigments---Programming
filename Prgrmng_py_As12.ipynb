{
 "cells": [
  {
   "cell_type": "code",
   "execution_count": 26,
   "metadata": {},
   "outputs": [
    {
     "name": "stdout",
     "output_type": "stream",
     "text": [
      "Given dictionary is \n",
      "{'abc': [1, 2, 3, 4, 5, 6], 'cde': [2, 3, 6, 7, 8], 'efg': [4, 5, 9, 10, 11, 12], 'hij': [90, 12, 99, 88]}\n",
      "Uniques vaules in dictionary are: [1, 2, 3, 4, 5, 6, 7, 8, 9, 10, 11, 12, 88, 90, 99]\n"
     ]
    }
   ],
   "source": [
    "#Write a Python program to Extract Unique values dictionary values?\n",
    "\n",
    "dict_test = {\n",
    "    'abc':[1,2,3,4,5,6],\n",
    "    'cde':[2,3,6,7,8],\n",
    "    'efg':[4,5,9,10,11,12],\n",
    "    'hij':[90,12,99,88]\n",
    "}\n",
    "\n",
    "print('Given dictionary is \\n'+ str(dict_test))\n",
    "\n",
    "value =  list(sorted({ele for val in dict_test.values() for ele in val}))\n",
    "\n",
    "print('Uniques vaules in dictionary are:', str(value))"
   ]
  },
  {
   "cell_type": "code",
   "execution_count": 24,
   "metadata": {},
   "outputs": [
    {
     "name": "stdout",
     "output_type": "stream",
     "text": [
      "Given dictionary:  {'1': 12, '2': 13}\n",
      "The value of sum of all items in dictionary is:  25\n"
     ]
    }
   ],
   "source": [
    "n = int(input(\"Enter the number of key value pairs:\"))\n",
    "d = {}\n",
    "for i in range(n):\n",
    "    keys = input(\"Enter the key :\")\n",
    "    values = int(input(\"Enter the value :\"))\n",
    "    d[keys] = values\n",
    "print(\"Given dictionary: \",str(d))\n",
    "\n",
    "val = sum([i for i in d.values()])\n",
    "\n",
    "print(\"The value of sum of all items in dictionary is: \",val)"
   ]
  },
  {
   "cell_type": "code",
   "execution_count": 27,
   "metadata": {},
   "outputs": [
    {
     "name": "stdout",
     "output_type": "stream",
     "text": [
      "Given dictionary d1:  {'1': 2, '3': 5}\n",
      "Given dictionary d2:  {'6': 7, '8': 9, '11': 22, '1': 23, '5': 44}\n",
      "Merged dictionary:\n",
      " {'1': 23, '3': 5, '6': 7, '8': 9, '11': 22, '5': 44}\n"
     ]
    }
   ],
   "source": [
    "#Write a Python program to Merging two Dictionaries?\n",
    "def merge_dict(dict1,dict2):\n",
    "    sum_val = {**dict1, **dict2}\n",
    "    return sum_val\n",
    "\n",
    "n = int(input(\"Enter the number of key value pairs for first dictionary d1:\"))\n",
    "d1 = {}\n",
    "for i in range(n):\n",
    "    keys = input(\"Enter the key for d1:\")\n",
    "    values = int(input(\"Enter the value d1:\"))\n",
    "    d1[keys] = values\n",
    "print(\"Given dictionary d1: \",str(d1))\n",
    "n = int(input(\"Enter the number of key value pairs for first dictionary d2:\"))\n",
    "d2 = {}\n",
    "for i in range(n):\n",
    "    keys = input(\"Enter the key for d2:\")\n",
    "    values = int(input(\"Enter the value d2:\"))\n",
    "    d2[keys] = values\n",
    "print(\"Given dictionary d2: \",str(d2))\n",
    "\n",
    "print(\"Merged dictionary:\\n\",merge_dict(d1,d2))\n"
   ]
  },
  {
   "cell_type": "code",
   "execution_count": 28,
   "metadata": {},
   "outputs": [
    {
     "name": "stdout",
     "output_type": "stream",
     "text": [
      "Given dictionary is :\n",
      " {'week_num': [1, 2, 3, 4, 5, 6], 'name_of_day': ['Mon', 'Tues', 'Wed', 'Thurs', 'fri', 'Sat']}\n",
      "The flattened dictionary is: \n",
      " {1: 'Mon', 2: 'Tues', 3: 'Wed', 4: 'Thurs', 5: 'fri', 6: 'Sat'}\n"
     ]
    }
   ],
   "source": [
    "#Write a Python program to convert key-values list to flat dictionary?\n",
    "from itertools import product\n",
    "my_dict = {'week_num' : [1, 2, 3, 4, 5, 6], 'name_of_day' : ['Mon', 'Tues', 'Wed', 'Thurs', 'fri', 'Sat']}\n",
    "\n",
    "print(\"Given dictionary is :\\n\",my_dict)\n",
    "\n",
    "result = dict(zip(my_dict['week_num'], my_dict['name_of_day']))\n",
    "\n",
    "print(\"The flattened dictionary is: \\n\",result)\n"
   ]
  },
  {
   "cell_type": "code",
   "execution_count": 29,
   "metadata": {},
   "outputs": [
    {
     "name": "stdout",
     "output_type": "stream",
     "text": [
      "OrderedDict([('A', 1), ('B', 2), ('C', 3), ('D', 4)])\n",
      "Dictionary with new value inserted: OrderedDict([('D', 4), ('A', 1), ('B', 2), ('C', 3)])\n"
     ]
    }
   ],
   "source": [
    "#Write a Python program to insertion at the beginning in OrderedDict?\n",
    "from collections import OrderedDict\n",
    "dict1 = {\n",
    "    'A':1,\n",
    "    'B':2,\n",
    "    'C':3\n",
    "}\n",
    "val = {'D':4}\n",
    "\n",
    "dict = OrderedDict(dict1)\n",
    "dict.update(val)\n",
    "print(dict)\n",
    "dict.move_to_end(\"D\",last=False)\n",
    "print(\"Dictionary with new value inserted:\",dict)\n"
   ]
  },
  {
   "cell_type": "code",
   "execution_count": 6,
   "metadata": {},
   "outputs": [
    {
     "name": "stdout",
     "output_type": "stream",
     "text": [
      "Characters are in order\n"
     ]
    }
   ],
   "source": [
    "#Write a Python program to check order of character in string using OrderedDict()?\n",
    "from collections import OrderedDict\n",
    "\n",
    "def check_order(inpt,pattern):\n",
    "    dict = OrderedDict.fromkeys(inpt)\n",
    "    \n",
    "    ptrlen = 0\n",
    "    for key,value in dict.items():\n",
    "        if(key==pattern[ptrlen]):\n",
    "            ptrlen+=1\n",
    "        if(ptrlen==(len(pattern))):\n",
    "            return \"Characters are in order\"\n",
    "    return \"Character is not in order\"\n",
    "\n",
    "if __name__ == \"__main__\": \n",
    "    input = 'Test for checking order of characters'\n",
    "    pattern = 'for'\n",
    "    print (check_order(input,pattern))"
   ]
  },
  {
   "cell_type": "code",
   "execution_count": 13,
   "metadata": {},
   "outputs": [
    {
     "name": "stdout",
     "output_type": "stream",
     "text": [
      "sorting on the basis of keys\n",
      "(1, 43) (2, 9) (3, 8) (4, 23) (5, 10) (6, 77) "
     ]
    }
   ],
   "source": [
    "#Write a Python program to sort Python Dictionaries by Key or Value?\n",
    "key_value={}\n",
    "\n",
    "key_value[5] = 10      \n",
    "key_value[3] = 8\n",
    "key_value[6] = 77\n",
    "key_value[4] = 23\n",
    "key_value[2] = 9     \n",
    "key_value[1] = 43\n",
    " \n",
    "print(\"sorting on the basis of keys\")\n",
    "\n",
    "for i in sorted(key_value) :\n",
    "    print ((i, key_value[i]), end =\" \")"
   ]
  }
 ],
 "metadata": {
  "interpreter": {
   "hash": "cd78fef2128015050713e82ca51c6520b11aee7c9ee8df750520bbbc7384cbaa"
  },
  "kernelspec": {
   "display_name": "Python 3.8.8 ('base')",
   "language": "python",
   "name": "python3"
  },
  "language_info": {
   "codemirror_mode": {
    "name": "ipython",
    "version": 3
   },
   "file_extension": ".py",
   "mimetype": "text/x-python",
   "name": "python",
   "nbconvert_exporter": "python",
   "pygments_lexer": "ipython3",
   "version": "3.8.8"
  },
  "orig_nbformat": 4
 },
 "nbformat": 4,
 "nbformat_minor": 2
}
