{
 "cells": [
  {
   "cell_type": "code",
   "execution_count": 12,
   "metadata": {},
   "outputs": [
    {
     "name": "stdout",
     "output_type": "stream",
     "text": [
      "The selected range is 15\n",
      "Divisible by 7 is:  7\n",
      "Divisible by 7 is:  14\n"
     ]
    }
   ],
   "source": [
    "\"\"\"Define a class with a generator which can iterate the numbers, which are divisible by\n",
    "7, between a given range 0 and n.\"\"\"\n",
    "\n",
    "n = int(input(\"Enter the range: \"))\n",
    "print(\"The selected range is\",n)\n",
    "\n",
    "def gen(num):\n",
    "    for i in range(1,num+1):\n",
    "       if i%7==0:\n",
    "          yield i\n",
    "\n",
    "for i in gen(n):\n",
    "    print(\"Divisible by 7 is: \",i)\n",
    "\n"
   ]
  },
  {
   "cell_type": "code",
   "execution_count": 26,
   "metadata": {},
   "outputs": [
    {
     "name": "stdout",
     "output_type": "stream",
     "text": [
      "The given input string is :  New to Python or choosing between Python 2 and Python 3? Read Python 2 or Python 3\n",
      "Frequency of words\n",
      "2:2\n",
      "3:1\n",
      "3?:1\n",
      "New:1\n",
      "Python:5\n",
      "Read:1\n",
      "and:1\n",
      "between:1\n",
      "choosing:1\n",
      "or:2\n",
      "to:1\n"
     ]
    }
   ],
   "source": [
    "\"\"\"Write a program to compute the frequency of the words from the input. The output\n",
    "should output after sorting the key alphanumerically.\n",
    "Suppose the following input is supplied to the program:\n",
    "New to Python or choosing between Python 2 and Python 3? Read Python 2 or\n",
    "Python 3.\n",
    "Then, the output should be:\n",
    "2:2\n",
    "3.:1\n",
    "3?:1\n",
    "New:1\n",
    "Python:5\"\"\"\n",
    "\n",
    "inpt = input(\"Enter the string : \")\n",
    "print(\"The given input string is : \",inpt)\n",
    "\n",
    "freq = {}\n",
    "for i in inpt.split():\n",
    "    freq[i]=freq.get(i,0)+1\n",
    "words = list(freq.keys())\n",
    "words.sort()\n",
    "print(\"Frequency of words\")\n",
    "for j in words:\n",
    "    print(f\"{j}:{freq[j]}\")\n",
    "\n"
   ]
  },
  {
   "cell_type": "code",
   "execution_count": 37,
   "metadata": {},
   "outputs": [
    {
     "name": "stdout",
     "output_type": "stream",
     "text": [
      "Female\n",
      "Male\n"
     ]
    }
   ],
   "source": [
    "\"\"\"Question 3:Define a class Person and its two child classes: Male and Female. All classes have a\n",
    "method \"getGender\"; which can print \"Male\" for Male class and \"Female\" for Female\n",
    "class.\"\"\"\n",
    "\n",
    "class Person(object):\n",
    "    def __init__(self):\n",
    "        self.gender = \"unknown\"\n",
    "\n",
    "    def getGender(self):\n",
    "        print(self.gender)\n",
    "\n",
    "class Male(Person):\n",
    "    def __init__(self):\n",
    "        self.gender = \"Male\"\n",
    "\n",
    "class Female(Person):\n",
    "    def __init__(self):\n",
    "        self.gender = \"Female\"\n",
    "\n",
    "Vinu = Female()\n",
    "yash = Male()\n",
    "Vinu.getGender()\n",
    "yash.getGender()\n",
    "\n"
   ]
  },
  {
   "cell_type": "code",
   "execution_count": 2,
   "metadata": {},
   "outputs": [
    {
     "name": "stdout",
     "output_type": "stream",
     "text": [
      "I play Hockey\n",
      "I play Football\n",
      "I love Hockey\n",
      "I love Football\n",
      "You play Hockey\n",
      "You play Football\n",
      "You love Hockey\n",
      "You love Football\n"
     ]
    }
   ],
   "source": [
    "#Question 4:\n",
    "\"\"\"Please write a program to generate all sentences where subject is in [\"I\", \"You\"] and\n",
    "verb is in \"Play\" &\"Love\" and the object is in [\"Hockey\",\"Football\"].\"\"\"\n",
    "\n",
    "subject = ['I','You']\n",
    "verb = ['play','love']\n",
    "object = ['Hockey','Football']\n",
    "\n",
    "sen_list = [(sub+\" \"+ver+\" \"+obj) for sub in subject for ver in verb for obj in object]\n",
    "for sen in sen_list:\n",
    "    print(sen)\n",
    "\n"
   ]
  },
  {
   "cell_type": "code",
   "execution_count": 5,
   "metadata": {},
   "outputs": [
    {
     "name": "stdout",
     "output_type": "stream",
     "text": [
      "b'x\\x9c\\xcbH\\xcd\\xc9\\xc9W(\\xcf/\\xcaIQ\\xcc \\x82\\r\\x00\\xbd[\\x11\\xf5'\n",
      "b'hello world!hello world!hello world!hello world!'\n"
     ]
    }
   ],
   "source": [
    "\"\"\"Question 5:\n",
    "Please write a program to compress and decompress the string \"hello world!hello\n",
    "world!hello world!hello world!\";.\"\"\"\n",
    "import zlib\n",
    "inpt = 'hello world!hello world!hello world!hello world!'\n",
    "inpt_1 = bytes(inpt,'utf-8')\n",
    "comp = zlib.compress(inpt_1)\n",
    "print (comp)\n",
    "print (zlib.decompress(comp))\n"
   ]
  },
  {
   "cell_type": "code",
   "execution_count": 23,
   "metadata": {},
   "outputs": [
    {
     "name": "stdout",
     "output_type": "stream",
     "text": [
      "4\n",
      "-1\n"
     ]
    }
   ],
   "source": [
    "\"\"\"Question 6:\n",
    "Please write a binary search function which searches an item in a sorted list. The\n",
    "function should return the index of element to be searched in the list.\"\"\"\n",
    "\n",
    "import math\n",
    "def bin_search(li, element):\n",
    "    bottom = 0\n",
    "    top = len(li)-1\n",
    "    index = -1\n",
    "    while top>=bottom and index==-1:\n",
    "        mid = int(math.floor((top+bottom)/2.0))\n",
    "        if li[mid]==element:\n",
    "            index = mid\n",
    "        elif li[mid]>element:\n",
    "            top = mid-1\n",
    "        else:\n",
    "            bottom = mid+1\n",
    "\n",
    "    return index\n",
    "\n",
    "li=[2,5,7,9,11,17,222]\n",
    "print (bin_search(li,11))\n",
    "print (bin_search(li,12))\n"
   ]
  }
 ],
 "metadata": {
  "interpreter": {
   "hash": "cd78fef2128015050713e82ca51c6520b11aee7c9ee8df750520bbbc7384cbaa"
  },
  "kernelspec": {
   "display_name": "Python 3.8.8 ('base')",
   "language": "python",
   "name": "python3"
  },
  "language_info": {
   "codemirror_mode": {
    "name": "ipython",
    "version": 3
   },
   "file_extension": ".py",
   "mimetype": "text/x-python",
   "name": "python",
   "nbconvert_exporter": "python",
   "pygments_lexer": "ipython3",
   "version": "3.8.8"
  },
  "orig_nbformat": 4
 },
 "nbformat": 4,
 "nbformat_minor": 2
}
