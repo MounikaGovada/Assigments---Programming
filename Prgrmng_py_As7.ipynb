{
 "cells": [
  {
   "cell_type": "code",
   "execution_count": 3,
   "metadata": {},
   "outputs": [
    {
     "name": "stdout",
     "output_type": "stream",
     "text": [
      "Enter the elements\n",
      "The sum of array is 5\n"
     ]
    }
   ],
   "source": [
    "#Write a program to find the sum of array?\n",
    "\n",
    "Lst = []\n",
    "num = int(input(\"Enter the size of array\"))\n",
    "print(\"Enter the elements\")\n",
    "for i in range(num):\n",
    "    nums = int(input())\n",
    "    Lst.append(nums)\n",
    "print('The sum of array is',sum(Lst))\n"
   ]
  },
  {
   "cell_type": "code",
   "execution_count": 4,
   "metadata": {},
   "outputs": [
    {
     "name": "stdout",
     "output_type": "stream",
     "text": [
      "Enter the elements\n",
      "List of elements [1, 2, 3]\n",
      "The maximum element in array is 3\n"
     ]
    }
   ],
   "source": [
    "#Write a program to find the largest number in the array\n",
    "Lst = []\n",
    "num = int(input(\"Enter the size of array\"))\n",
    "print(\"Enter the elements\")\n",
    "for i in range(num):\n",
    "    nums = int(input())\n",
    "    Lst.append(nums)\n",
    "print(\"List of elements\", Lst)\n",
    "print(\"The maximum element in array is\",max(Lst))\n"
   ]
  },
  {
   "cell_type": "code",
   "execution_count": 5,
   "metadata": {},
   "outputs": [
    {
     "name": "stdout",
     "output_type": "stream",
     "text": [
      "Enter the elements\n",
      "List of elements [1, 2, 3]\n",
      "The reverse order is <list_reverseiterator object at 0x7f852a7e6eb0>\n"
     ]
    }
   ],
   "source": [
    "#Write a Python Program for array rotation\n",
    "Lst = []\n",
    "num = int(input(\"Enter the size of array\"))\n",
    "print(\"Enter the elements\")\n",
    "for i in range(num):\n",
    "    nums = int(input())\n",
    "    Lst.append(nums)\n",
    "print(\"List of elements\", Lst)\n",
    "print(\"The reverse order is\",reversed(Lst))"
   ]
  },
  {
   "cell_type": "code",
   "execution_count": 4,
   "metadata": {},
   "outputs": [
    {
     "name": "stdout",
     "output_type": "stream",
     "text": [
      "Enter the elements\n",
      "Given list [1, 2, 3, 4, 5, 6]\n",
      "Rotated Array [3, 4, 5, 6, 1, 2]\n"
     ]
    }
   ],
   "source": [
    "#Write a Python Program for array rotation?\n",
    "\n",
    "def rotateArray(a,d):\n",
    "    temp = []\n",
    "    n=len(a)\n",
    "    for i in range(d,n):\n",
    "        temp.append(a[i])\n",
    "    i = 0\n",
    "    for i in range (0,d):\n",
    "        temp.append(a[i])\n",
    "    a=temp.copy()\n",
    "    return a\n",
    "Lst = []\n",
    "num = int(input(\"Enter the size of array\"))\n",
    "print(\"Enter the elements\")\n",
    "for i in range(num):\n",
    "    nums = int(input())\n",
    "    Lst.append(nums)\n",
    "print(\"Given list\", Lst)\n",
    "print(\"Rotated Array\",rotateArray(Lst,2))"
   ]
  },
  {
   "cell_type": "code",
   "execution_count": 8,
   "metadata": {},
   "outputs": [
    {
     "name": "stdout",
     "output_type": "stream",
     "text": [
      "Enter the elements\n",
      "Given list [1, 2, 3, 4, 5]\n",
      "3 4 5 1 2 "
     ]
    }
   ],
   "source": [
    "#Write a Python Program to Split the array and add the first part to the end?\n",
    "def SplitArray(arr, n, k):\n",
    "\tfor i in range(0, k):\n",
    "\t\tx = arr[0]\n",
    "\t\tfor j in range(0, n-1):\n",
    "\t\t\tarr[j] = arr[j + 1]\n",
    "\t\t\n",
    "\t\tarr[n-1] = x\t\t\n",
    "Lst = []\n",
    "num = int(input(\"Enter the size of array\"))\n",
    "print(\"Enter the elements\")\n",
    "for i in range(num):\n",
    "    nums = int(input())\n",
    "    Lst.append(nums)\n",
    "n=len(Lst)\n",
    "pos = int(n/2)\n",
    "print(\"Given list\", Lst)\n",
    "SplitArray(Lst, n, pos)\n",
    "for i in range(0, n):\n",
    "    print(Lst[i], end = ' ')"
   ]
  },
  {
   "cell_type": "code",
   "execution_count": 16,
   "metadata": {},
   "outputs": [
    {
     "name": "stdout",
     "output_type": "stream",
     "text": [
      "Enter the elements\n",
      "Given array [1, 2, 3, 4, 5]\n",
      "The given array is monotonic\n"
     ]
    }
   ],
   "source": [
    "#Write a Python Program to check if given array is Monotonic?\n",
    "def ismonotone(a):\n",
    "    n = len(a)\n",
    "    if n ==1:\n",
    "        return(\"The given array is monotone\")\n",
    "    else:\n",
    "        if all(a[i]>=a[i+1] for i in range(0,n-1)): \n",
    "           return(\"The given array is monotonic\")\n",
    "        elif all(a[i]<=a[i+1] for i in range(0,n-1)):\n",
    "            return(\"The given array is monotonic\")\n",
    "        else:\n",
    "            return(\"The given array is not monotonic\") \n",
    "Lst = []\n",
    "num = int(input(\"Enter the size of array\"))\n",
    "print(\"Enter the elements\")\n",
    "for i in range(num):\n",
    "    nums = int(input())\n",
    "    Lst.append(nums)\n",
    "print(\"Given array\",Lst)\n",
    "print(ismonotone(Lst))"
   ]
  }
 ],
 "metadata": {
  "interpreter": {
   "hash": "cd78fef2128015050713e82ca51c6520b11aee7c9ee8df750520bbbc7384cbaa"
  },
  "kernelspec": {
   "display_name": "Python 3.8.8 ('base')",
   "language": "python",
   "name": "python3"
  },
  "language_info": {
   "codemirror_mode": {
    "name": "ipython",
    "version": 3
   },
   "file_extension": ".py",
   "mimetype": "text/x-python",
   "name": "python",
   "nbconvert_exporter": "python",
   "pygments_lexer": "ipython3",
   "version": "3.8.8"
  },
  "orig_nbformat": 4
 },
 "nbformat": 4,
 "nbformat_minor": 2
}
