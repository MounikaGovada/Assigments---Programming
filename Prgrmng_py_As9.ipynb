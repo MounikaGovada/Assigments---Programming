{
 "cells": [
  {
   "cell_type": "code",
   "execution_count": 2,
   "metadata": {},
   "outputs": [
    {
     "name": "stdout",
     "output_type": "stream",
     "text": [
      "The number is 175\n",
      "This number 175 is a Disarium number\n"
     ]
    }
   ],
   "source": [
    "#Write a Python program to check if the given number is a Disarium Number?\n",
    "# A number is said to be the Disarium number when the sum of its digit \n",
    "# raised to the power of their respective positions becomes equal to the number itself.\n",
    "\n",
    "def cal_len(n):\n",
    "    length = 0\n",
    "    while(n!=0):\n",
    "        length+=1\n",
    "        n=n//10\n",
    "    return length\n",
    "\n",
    "num= int(input(\"Enter the number :\"))\n",
    "print(\"The number is\",num)\n",
    "temp = num\n",
    "sum=0\n",
    "len=cal_len(num)\n",
    "while(num>0):\n",
    "    rem = num%10\n",
    "    sum = sum+(rem**len)\n",
    "    num =  num//10\n",
    "    len = len - 1\n",
    "\n",
    "if(sum==temp):\n",
    "    print(\"This number\",temp,\"is a Disarium number\")\n",
    "else:\n",
    "    print(\"This number\",temp,\"is not Disarium number\")"
   ]
  },
  {
   "cell_type": "code",
   "execution_count": 4,
   "metadata": {},
   "outputs": [
    {
     "name": "stdout",
     "output_type": "stream",
     "text": [
      "The interval is 1 - 100\n",
      "The number 1 is a Disarium number\n",
      "The number 2 is a Disarium number\n",
      "The number 3 is a Disarium number\n",
      "The number 4 is a Disarium number\n",
      "The number 5 is a Disarium number\n",
      "The number 6 is a Disarium number\n",
      "The number 7 is a Disarium number\n",
      "The number 8 is a Disarium number\n",
      "The number 9 is a Disarium number\n",
      "The number 89 is a Disarium number\n"
     ]
    }
   ],
   "source": [
    "#Write a Python program to print all disarium numbers between 1 to 100?\n",
    "\n",
    "def cal_len(n):\n",
    "    length = 0\n",
    "    while(n!=0):\n",
    "        length+=1\n",
    "        n=n//10\n",
    "    return length\n",
    "\n",
    "lower= int(input(\"Enter the lower interval :\"))\n",
    "upper = int(input(\"Enter the upper interval:\"))\n",
    "print('The interval is',lower,'-',upper)\n",
    "for i in range(lower,upper+1):\n",
    "  temp = i\n",
    "  sum=0\n",
    "  len=cal_len(i)\n",
    "  while(i>0):\n",
    "    rem = i%10\n",
    "    sum = sum+(rem**len)\n",
    "    i =  i//10\n",
    "    len = len - 1\n",
    "\n",
    "  if(sum==temp):\n",
    "    print(\"The number\",temp,\"is a Disarium number\")\n",
    "  else:\n",
    "      pass"
   ]
  },
  {
   "cell_type": "code",
   "execution_count": 17,
   "metadata": {},
   "outputs": [
    {
     "name": "stdout",
     "output_type": "stream",
     "text": [
      "The number given: 49\n",
      "49  is a happy number\n"
     ]
    }
   ],
   "source": [
    "#Write a Python program to check if the given number is Happy Number?\n",
    "#eg:49--> 4^2 + 9^2 ==>97-->9^2+7^2==>130-->1^2+3^2+0^2==>10-->1^2+0^2==>1\n",
    "def is_Happy_num(num):\n",
    "    rem = sum = 0;    \n",
    "    while(num > 0):    \n",
    "        rem = num%10;    \n",
    "        sum = sum + (rem*rem);    \n",
    "        num = num//10;    \n",
    "    return sum; \n",
    "n = int(input(\"Enter the number:\"))\n",
    "print(\"The number given:\",n)\n",
    "res = n\n",
    "while(res != 1 and res != 4):    \n",
    "    res = is_Happy_num(res)  \n",
    "if(res == 1):    \n",
    "    print(n, \" is a happy number\");    \n",
    "elif(res == 4):    \n",
    "    print(n, \" is not a happy number\");   "
   ]
  },
  {
   "cell_type": "code",
   "execution_count": 18,
   "metadata": {},
   "outputs": [
    {
     "name": "stdout",
     "output_type": "stream",
     "text": [
      "The interval is 1 - 100\n",
      "1  is a happy number\n",
      "7  is a happy number\n",
      "10  is a happy number\n",
      "13  is a happy number\n",
      "19  is a happy number\n",
      "23  is a happy number\n",
      "28  is a happy number\n",
      "31  is a happy number\n",
      "32  is a happy number\n",
      "44  is a happy number\n",
      "49  is a happy number\n",
      "68  is a happy number\n",
      "70  is a happy number\n",
      "79  is a happy number\n",
      "82  is a happy number\n",
      "86  is a happy number\n",
      "91  is a happy number\n",
      "94  is a happy number\n",
      "97  is a happy number\n",
      "100  is a happy number\n"
     ]
    }
   ],
   "source": [
    "#Write a Python program to print all happy numbers between 1 and 100?\n",
    "def is_Happy_num(num):\n",
    "    rem = sum = 0;    \n",
    "    while(num > 0):    \n",
    "        rem = num%10;    \n",
    "        sum = sum + (rem*rem);    \n",
    "        num = num//10;    \n",
    "    return sum; \n",
    "\n",
    "lower = int(input(\"Enter the lower interval:\"))\n",
    "upper = int(input(\"Enter the upper interval:\"))\n",
    "print(\"The interval is\",lower,'-',upper)\n",
    "for i in range(lower,upper+1):\n",
    "  res = i\n",
    "  while(res != 1 and res != 4):    \n",
    "    res = is_Happy_num(res)  \n",
    "  if(res == 1):    \n",
    "    print(i, \" is a happy number\");    \n",
    "  else:\n",
    "    pass"
   ]
  },
  {
   "cell_type": "code",
   "execution_count": 22,
   "metadata": {},
   "outputs": [
    {
     "name": "stdout",
     "output_type": "stream",
     "text": [
      "The number given is 156\n",
      "The number 156 is Harshad number\n"
     ]
    }
   ],
   "source": [
    "#Write a Python program to determine whether the given number is a Harshad Number?\n",
    "#If a number is divisible by the sum of its digits, then it will be known as a Harshad Number.\n",
    "\n",
    "def harshad_num(n):\n",
    "    temp=n\n",
    "    sum=0\n",
    "    while(n>0):\n",
    "        rem=n%10\n",
    "        sum=sum+rem\n",
    "        n=n//10\n",
    "    if(temp%sum==0):\n",
    "        print(\"The number\",temp,\"is Harshad number\")\n",
    "    else:\n",
    "        pass\n",
    "num = int(input(\"Enter a number\"))\n",
    "print(\"The number given is\",num)\n",
    "harshad_num(num)\n"
   ]
  },
  {
   "cell_type": "code",
   "execution_count": 23,
   "metadata": {},
   "outputs": [
    {
     "name": "stdout",
     "output_type": "stream",
     "text": [
      "The interval is 1 - 100\n",
      "The pronic numbers are\n",
      "2\n",
      " \n",
      "6\n",
      " \n",
      "12\n",
      " \n",
      "20\n",
      " \n",
      "30\n",
      " \n",
      "42\n",
      " \n",
      "56\n",
      " \n",
      "72\n",
      " \n",
      "90\n",
      " \n"
     ]
    }
   ],
   "source": [
    "#Write a Python program to print all pronic numbers between 1 and 100?\n",
    "#The pronic number is a product of two consecutive integers of the form: n(n+1).Eg: 6=2*(2+1)\n",
    "\n",
    "def is_pronic(num):\n",
    "    val = False\n",
    "    for j in range(1,num+1):\n",
    "        if(j*(j+1)==num):\n",
    "            val = True\n",
    "            break\n",
    "    return val\n",
    "lower = int(input(\"Enter the lower interval:\"))\n",
    "upper = int(input(\"Enter the upper interval:\"))\n",
    "print(\"The interval is\",lower,'-',upper)\n",
    "print(\"The pronic numbers are\")\n",
    "for i in range(lower,upper+1):\n",
    "    if(is_pronic(i)):\n",
    "        print(i)\n",
    "        print(\" \")\n",
    "\n"
   ]
  }
 ],
 "metadata": {
  "interpreter": {
   "hash": "cd78fef2128015050713e82ca51c6520b11aee7c9ee8df750520bbbc7384cbaa"
  },
  "kernelspec": {
   "display_name": "Python 3.8.8 ('base')",
   "language": "python",
   "name": "python3"
  },
  "language_info": {
   "codemirror_mode": {
    "name": "ipython",
    "version": 3
   },
   "file_extension": ".py",
   "mimetype": "text/x-python",
   "name": "python",
   "nbconvert_exporter": "python",
   "pygments_lexer": "ipython3",
   "version": "3.8.8"
  },
  "orig_nbformat": 4
 },
 "nbformat": 4,
 "nbformat_minor": 2
}
